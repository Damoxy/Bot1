{
 "cells": [
  {
   "cell_type": "code",
   "execution_count": 7,
   "metadata": {},
   "outputs": [],
   "source": [
    "import pandas as pd\n",
    "df=pd.read_csv(\"coba.csv\")"
   ]
  },
  {
   "cell_type": "code",
   "execution_count": 13,
   "metadata": {},
   "outputs": [
    {
     "name": "stdout",
     "output_type": "stream",
     "text": [
      "[[0.6 0.4]]\n",
      "[False]\n",
      "40.0%\n"
     ]
    }
   ],
   "source": [
    "import pandas as pd\n",
    "import tweepy\n",
    "from time import sleep\n",
    "import csv\n",
    "from datetime import datetime, date, time, timedelta\n",
    "import datetime as dt\n",
    "import io\n",
    "import numpy as np\n",
    "import joblib\n",
    "import pickle\n",
    "import re\n",
    "\n",
    "df=pd.read_csv('coba.csv')\n",
    "\n",
    "def preprocess(df):\n",
    "    df[\"Created_at\"]= pd.to_datetime(df[\"Created_at\"])\n",
    "\n",
    "    #Count age in days\n",
    "    now = pd.Timestamp('now')\n",
    "    df['age_in_days'] = (now - df['Created_at']).dt.days\n",
    "    #Number of tweets/age\n",
    "    df['Ratio Statuses_count/age']=df['Statuses_count']/df['age_in_days']\n",
    "    #Number of favourites/age\n",
    "    df['Ratio Favorites/age']=df['Favorites_count']/df['age_in_days']\n",
    "    #Ratio friends/follower\n",
    "    df['Ratio Friends/Followers']=df['Friends_count']/df['Followers_count']\n",
    "    #Count length of bio\n",
    "    df['Length_of_Bio']=df['Description'].astype(str).str.len()\n",
    "    #Measure reputation\n",
    "    df['Reputation']= df['Followers_count']/(df['Followers_count']+ df['Friends_count'])\n",
    "    df1=df.drop(['Geo_enabled','id_str','Created_at'], axis=1)\n",
    "    df1['URL'] = pd.notnull(df1[\"URL\"]) \n",
    "    df1['Location']=pd.notnull(df1['Location'])\n",
    "    bag_of_word ='bot|b0t|updates|hourly|automatically|generating|generated|every|computer-generated|twitterbot|automated|'\n",
    "    df2=df1\n",
    "    df2['contains_bot_name']=df2['Description'].astype(str).str.contains(bag_of_word, flags=re.IGNORECASE, regex=True)\n",
    "    df2=df2.drop(['Description'], axis=1)\n",
    "    df2[\"Length_of_Bio\"].fillna(0, inplace = True) \n",
    "\n",
    "    df2[\"Reputation\"].fillna(0, inplace = True) \n",
    "    df2[\"contains_bot_name\"].fillna(False, inplace=True)\n",
    "    df2=pd.DataFrame(df2)\n",
    "    db=df2\n",
    "    db=pd.DataFrame(db)\n",
    "    db['URL'].fillna(False,inplace=True)\n",
    "    db.replace(np.inf, 0)\n",
    "    db.replace(-np.inf, 0)\n",
    "    db = db.replace([np.inf, -np.inf], np.nan)\n",
    "    db=db.drop(['id'], axis=1)\n",
    "    db = db[['Followers_count', \n",
    "            'Listed_count',\n",
    "            'Friends_count',\n",
    "            'Favorites_count',\n",
    "            'Verified',\n",
    "            'Default_profile',\n",
    "            'Default_profile_image',\n",
    "            'Location',\n",
    "            'Statuses_count',\n",
    "            'URL',\n",
    "            'age_in_days',\n",
    "            'Ratio Statuses_count/age',\n",
    "            'Ratio Favorites/age',\n",
    "            'Ratio Friends/Followers',\n",
    "            'Length_of_Bio',\n",
    "            'contains_bot_name', \n",
    "            'Reputation',\n",
    "            ]]\n",
    "    data_prob=db.values.tolist()\n",
    "    return data_prob,db\n",
    "\n",
    "#Load the model and predict\n",
    "\n",
    "#pred_proba will output 2 index, \n",
    "#the first index is likelihood belong to 0, and the second index is the likelihood belong to 1\n",
    "def prediction(data_prob,db):\n",
    "    model = joblib.load('ml/profile_analysis_rf.sav')\n",
    "    pred_proba=model.predict_proba(data_prob)\n",
    "    print (pred_proba) \n",
    "    #pred_class. False indicate that it is not a bot\n",
    "    pred_class=model.predict(db)\n",
    "    print(pred_class)\n",
    "    percentage=pred_proba[:,1]\n",
    "    # per=str(percentage.tolist())\n",
    "    # per.replace('[',']'))\n",
    "    # print(perc)\n",
    "    joins=' '.join(map(str, percentage))\n",
    "    perc=float(joins)*100\n",
    "    return print(str(perc)+\"%\")\n",
    "\n",
    "data_prob, db = preprocess(df)\n",
    "preprocess(df)\n",
    "prediction(data_prob,db)\n"
   ]
  },
  {
   "cell_type": "code",
   "execution_count": 6,
   "metadata": {},
   "outputs": [
    {
     "data": {
      "text/plain": [
       "(1, 17)"
      ]
     },
     "execution_count": 6,
     "metadata": {},
     "output_type": "execute_result"
    }
   ],
   "source": [
    "df.shape"
   ]
  },
  {
   "cell_type": "code",
   "execution_count": null,
   "metadata": {},
   "outputs": [],
   "source": []
  }
 ],
 "metadata": {
  "kernelspec": {
   "display_name": "Python 3",
   "language": "python",
   "name": "python3"
  },
  "language_info": {
   "codemirror_mode": {
    "name": "ipython",
    "version": 3
   },
   "file_extension": ".py",
   "mimetype": "text/x-python",
   "name": "python",
   "nbconvert_exporter": "python",
   "pygments_lexer": "ipython3",
   "version": "3.7.3"
  }
 },
 "nbformat": 4,
 "nbformat_minor": 2
}
